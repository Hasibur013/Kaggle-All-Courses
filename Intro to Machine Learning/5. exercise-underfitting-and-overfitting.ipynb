{
 "cells": [
  {
   "cell_type": "markdown",
   "id": "6d8be80e",
   "metadata": {
    "papermill": {
     "duration": 0.005828,
     "end_time": "2024-04-14T04:40:22.011166",
     "exception": false,
     "start_time": "2024-04-14T04:40:22.005338",
     "status": "completed"
    },
    "tags": []
   },
   "source": [
    "**This notebook is an exercise in the [Introduction to Machine Learning](https://www.kaggle.com/learn/intro-to-machine-learning) course.  You can reference the tutorial at [this link](https://www.kaggle.com/dansbecker/underfitting-and-overfitting).**\n",
    "\n",
    "---\n"
   ]
  },
  {
   "cell_type": "markdown",
   "id": "97ae9ab6",
   "metadata": {
    "papermill": {
     "duration": 0.004439,
     "end_time": "2024-04-14T04:40:22.020820",
     "exception": false,
     "start_time": "2024-04-14T04:40:22.016381",
     "status": "completed"
    },
    "tags": []
   },
   "source": [
    "## Recap\n",
    "You've built your first model, and now it's time to optimize the size of the tree to make better predictions. Run this cell to set up your coding environment where the previous step left off."
   ]
  },
  {
   "cell_type": "code",
   "execution_count": 1,
   "id": "29898632",
   "metadata": {
    "execution": {
     "iopub.execute_input": "2024-04-14T04:40:22.033439Z",
     "iopub.status.busy": "2024-04-14T04:40:22.032973Z",
     "iopub.status.idle": "2024-04-14T04:40:25.328816Z",
     "shell.execute_reply": "2024-04-14T04:40:25.326567Z"
    },
    "papermill": {
     "duration": 3.305528,
     "end_time": "2024-04-14T04:40:25.331489",
     "exception": false,
     "start_time": "2024-04-14T04:40:22.025961",
     "status": "completed"
    },
    "tags": []
   },
   "outputs": [
    {
     "name": "stdout",
     "output_type": "stream",
     "text": [
      "Validation MAE: 29,653\n",
      "\n",
      "Setup complete\n"
     ]
    }
   ],
   "source": [
    "# Code you have previously used to load data\n",
    "import pandas as pd\n",
    "from sklearn.metrics import mean_absolute_error\n",
    "from sklearn.model_selection import train_test_split\n",
    "from sklearn.tree import DecisionTreeRegressor\n",
    "\n",
    "\n",
    "# Path of the file to read\n",
    "iowa_file_path = '../input/home-data-for-ml-course/train.csv'\n",
    "\n",
    "home_data = pd.read_csv(iowa_file_path)\n",
    "# Create target object and call it y\n",
    "y = home_data.SalePrice\n",
    "# Create X\n",
    "features = ['LotArea', 'YearBuilt', '1stFlrSF', '2ndFlrSF', 'FullBath', 'BedroomAbvGr', 'TotRmsAbvGrd']\n",
    "X = home_data[features]\n",
    "\n",
    "# Split into validation and training data\n",
    "train_X, val_X, train_y, val_y = train_test_split(X, y, random_state=1)\n",
    "\n",
    "# Specify Model\n",
    "iowa_model = DecisionTreeRegressor(random_state=1)\n",
    "# Fit Model\n",
    "iowa_model.fit(train_X, train_y)\n",
    "\n",
    "# Make validation predictions and calculate mean absolute error\n",
    "val_predictions = iowa_model.predict(val_X)\n",
    "val_mae = mean_absolute_error(val_predictions, val_y)\n",
    "print(\"Validation MAE: {:,.0f}\".format(val_mae))\n",
    "\n",
    "# Set up code checking\n",
    "from learntools.core import binder\n",
    "binder.bind(globals())\n",
    "from learntools.machine_learning.ex5 import *\n",
    "print(\"\\nSetup complete\")"
   ]
  },
  {
   "cell_type": "markdown",
   "id": "a39446f1",
   "metadata": {
    "papermill": {
     "duration": 0.004569,
     "end_time": "2024-04-14T04:40:25.341117",
     "exception": false,
     "start_time": "2024-04-14T04:40:25.336548",
     "status": "completed"
    },
    "tags": []
   },
   "source": [
    "# Exercises\n",
    "You could write the function `get_mae` yourself. For now, we'll supply it. This is the same function you read about in the previous lesson. Just run the cell below."
   ]
  },
  {
   "cell_type": "code",
   "execution_count": 2,
   "id": "f8c450ee",
   "metadata": {
    "execution": {
     "iopub.execute_input": "2024-04-14T04:40:25.352864Z",
     "iopub.status.busy": "2024-04-14T04:40:25.352424Z",
     "iopub.status.idle": "2024-04-14T04:40:25.358942Z",
     "shell.execute_reply": "2024-04-14T04:40:25.357718Z"
    },
    "papermill": {
     "duration": 0.015527,
     "end_time": "2024-04-14T04:40:25.361503",
     "exception": false,
     "start_time": "2024-04-14T04:40:25.345976",
     "status": "completed"
    },
    "tags": []
   },
   "outputs": [],
   "source": [
    "def get_mae(max_leaf_nodes, train_X, val_X, train_y, val_y):\n",
    "    model = DecisionTreeRegressor(max_leaf_nodes=max_leaf_nodes, random_state=0)\n",
    "    model.fit(train_X, train_y)\n",
    "    preds_val = model.predict(val_X)\n",
    "    mae = mean_absolute_error(val_y, preds_val)\n",
    "    return(mae)"
   ]
  },
  {
   "cell_type": "markdown",
   "id": "625dd701",
   "metadata": {
    "papermill": {
     "duration": 0.004669,
     "end_time": "2024-04-14T04:40:25.371089",
     "exception": false,
     "start_time": "2024-04-14T04:40:25.366420",
     "status": "completed"
    },
    "tags": []
   },
   "source": [
    "## Step 1: Compare Different Tree Sizes\n",
    "Write a loop that tries the following values for *max_leaf_nodes* from a set of possible values.\n",
    "\n",
    "Call the *get_mae* function on each value of max_leaf_nodes. Store the output in some way that allows you to select the value of `max_leaf_nodes` that gives the most accurate model on your data."
   ]
  },
  {
   "cell_type": "code",
   "execution_count": 3,
   "id": "44217fbe",
   "metadata": {
    "execution": {
     "iopub.execute_input": "2024-04-14T04:40:25.384033Z",
     "iopub.status.busy": "2024-04-14T04:40:25.383211Z",
     "iopub.status.idle": "2024-04-14T04:40:25.487070Z",
     "shell.execute_reply": "2024-04-14T04:40:25.485957Z"
    },
    "papermill": {
     "duration": 0.114344,
     "end_time": "2024-04-14T04:40:25.490419",
     "exception": false,
     "start_time": "2024-04-14T04:40:25.376075",
     "status": "completed"
    },
    "tags": []
   },
   "outputs": [
    {
     "name": "stdout",
     "output_type": "stream",
     "text": [
      "Max Leaf Nodes: 5 \t\t MAE: 35044\n",
      "Max Leaf Nodes: 25 \t\t MAE: 29016\n",
      "Max Leaf Nodes: 50 \t\t MAE: 27405\n",
      "Max Leaf Nodes: 100 \t\t MAE: 27282\n",
      "Max Leaf Nodes: 250 \t\t MAE: 27893\n",
      "Max Leaf Nodes: 500 \t\t MAE: 29454\n",
      "\n",
      " {5: 35044.51299744237, 25: 29016.41319191076, 50: 27405.930473214907, 100: 27282.50803885739, 250: 27893.822225701646, 500: 29454.18598068598}\n",
      "\n",
      " 100 27282.50803885739\n"
     ]
    },
    {
     "data": {
      "application/javascript": [
       "parent.postMessage({\"jupyterEvent\": \"custom.exercise_interaction\", \"data\": {\"outcomeType\": 1, \"valueTowardsCompletion\": 0.5, \"interactionType\": 1, \"questionType\": 1, \"questionId\": \"1_BestTreeSize\", \"learnToolsVersion\": \"0.3.4\", \"failureMessage\": \"\", \"exceptionClass\": \"\", \"trace\": \"\"}}, \"*\")"
      ],
      "text/plain": [
       "<IPython.core.display.Javascript object>"
      ]
     },
     "metadata": {},
     "output_type": "display_data"
    },
    {
     "data": {
      "text/markdown": [
       "<span style=\"color:#33cc33\">Correct</span>"
      ],
      "text/plain": [
       "Correct"
      ]
     },
     "metadata": {},
     "output_type": "display_data"
    }
   ],
   "source": [
    "candidate_max_leaf_nodes = [5, 25, 50, 100, 250, 500]\n",
    "# Write loop to find the ideal tree size from candidate_max_leaf_nodes\n",
    "for max_leaf_nodes in candidate_max_leaf_nodes:\n",
    "    mae = get_mae(max_leaf_nodes, train_X, val_X, train_y, val_y)\n",
    "    print(\"Max Leaf Nodes: %d \\t\\t MAE: %d\" %(max_leaf_nodes,mae))\n",
    "\n",
    "# Store the best value of max_leaf_nodes (it will be either 5, 25, 50, 100, 250 or 500)\n",
    "scores = {leaf_size: get_mae(leaf_size, train_X, val_X, train_y, val_y) for leaf_size in candidate_max_leaf_nodes}\n",
    "print(\"\\n\", scores)\n",
    "\n",
    "best_tree_size = min(scores, key=scores.get)\n",
    "\n",
    "print(\"\\n\", best_tree_size, scores[best_tree_size])\n",
    "\n",
    "# Check your answer\n",
    "step_1.check()"
   ]
  },
  {
   "cell_type": "code",
   "execution_count": 4,
   "id": "4e25ea0c",
   "metadata": {
    "execution": {
     "iopub.execute_input": "2024-04-14T04:40:25.503340Z",
     "iopub.status.busy": "2024-04-14T04:40:25.502613Z",
     "iopub.status.idle": "2024-04-14T04:40:25.507073Z",
     "shell.execute_reply": "2024-04-14T04:40:25.506278Z"
    },
    "papermill": {
     "duration": 0.013713,
     "end_time": "2024-04-14T04:40:25.509451",
     "exception": false,
     "start_time": "2024-04-14T04:40:25.495738",
     "status": "completed"
    },
    "tags": []
   },
   "outputs": [],
   "source": [
    "# The lines below will show you a hint or the solution.\n",
    "# step_1.hint() \n",
    "# step_1.solution()"
   ]
  },
  {
   "cell_type": "markdown",
   "id": "4d7cf7fa",
   "metadata": {
    "papermill": {
     "duration": 0.005082,
     "end_time": "2024-04-14T04:40:25.519829",
     "exception": false,
     "start_time": "2024-04-14T04:40:25.514747",
     "status": "completed"
    },
    "tags": []
   },
   "source": [
    "## Step 2: Fit Model Using All Data\n",
    "You know the best tree size. If you were going to deploy this model in practice, you would make it even more accurate by using all of the data and keeping that tree size.  That is, you don't need to hold out the validation data now that you've made all your modeling decisions."
   ]
  },
  {
   "cell_type": "code",
   "execution_count": 5,
   "id": "3001353b",
   "metadata": {
    "execution": {
     "iopub.execute_input": "2024-04-14T04:40:25.532735Z",
     "iopub.status.busy": "2024-04-14T04:40:25.531939Z",
     "iopub.status.idle": "2024-04-14T04:40:25.552015Z",
     "shell.execute_reply": "2024-04-14T04:40:25.550645Z"
    },
    "papermill": {
     "duration": 0.02952,
     "end_time": "2024-04-14T04:40:25.554626",
     "exception": false,
     "start_time": "2024-04-14T04:40:25.525106",
     "status": "completed"
    },
    "tags": []
   },
   "outputs": [
    {
     "data": {
      "application/javascript": [
       "parent.postMessage({\"jupyterEvent\": \"custom.exercise_interaction\", \"data\": {\"outcomeType\": 1, \"valueTowardsCompletion\": 0.5, \"interactionType\": 1, \"questionType\": 2, \"questionId\": \"2_FitModelWithAllData\", \"learnToolsVersion\": \"0.3.4\", \"failureMessage\": \"\", \"exceptionClass\": \"\", \"trace\": \"\"}}, \"*\")"
      ],
      "text/plain": [
       "<IPython.core.display.Javascript object>"
      ]
     },
     "metadata": {},
     "output_type": "display_data"
    },
    {
     "data": {
      "text/markdown": [
       "<span style=\"color:#33cc33\">Correct</span>"
      ],
      "text/plain": [
       "Correct"
      ]
     },
     "metadata": {},
     "output_type": "display_data"
    }
   ],
   "source": [
    "# Fill in argument to make optimal size and uncomment\n",
    "final_model = DecisionTreeRegressor(max_leaf_nodes=best_tree_size, random_state=0)\n",
    "\n",
    "# fit the final model and uncomment the next two lines\n",
    "final_model.fit(X, y)\n",
    "\n",
    "# Check your answer\n",
    "step_2.check()"
   ]
  },
  {
   "cell_type": "code",
   "execution_count": 6,
   "id": "467d4768",
   "metadata": {
    "execution": {
     "iopub.execute_input": "2024-04-14T04:40:25.568870Z",
     "iopub.status.busy": "2024-04-14T04:40:25.567938Z",
     "iopub.status.idle": "2024-04-14T04:40:25.574309Z",
     "shell.execute_reply": "2024-04-14T04:40:25.572845Z"
    },
    "papermill": {
     "duration": 0.016924,
     "end_time": "2024-04-14T04:40:25.577263",
     "exception": false,
     "start_time": "2024-04-14T04:40:25.560339",
     "status": "completed"
    },
    "tags": []
   },
   "outputs": [],
   "source": [
    "# step_2.hint()\n",
    "# step_2.solution()"
   ]
  },
  {
   "cell_type": "markdown",
   "id": "3563b2b8",
   "metadata": {
    "papermill": {
     "duration": 0.005855,
     "end_time": "2024-04-14T04:40:25.589613",
     "exception": false,
     "start_time": "2024-04-14T04:40:25.583758",
     "status": "completed"
    },
    "tags": []
   },
   "source": [
    "You've tuned this model and improved your results. But we are still using Decision Tree models, which are not very sophisticated by modern machine learning standards. In the next step you will learn to use Random Forests to improve your models even more.\n",
    "\n",
    "# Keep Going\n",
    "\n",
    "You are ready for **[Random Forests](https://www.kaggle.com/dansbecker/random-forests).**\n"
   ]
  },
  {
   "cell_type": "markdown",
   "id": "ae92ab54",
   "metadata": {
    "papermill": {
     "duration": 0.006694,
     "end_time": "2024-04-14T04:40:25.602597",
     "exception": false,
     "start_time": "2024-04-14T04:40:25.595903",
     "status": "completed"
    },
    "tags": []
   },
   "source": [
    "---\n",
    "\n",
    "\n",
    "\n",
    "\n",
    "*Have questions or comments? Visit the [course discussion forum](https://www.kaggle.com/learn/intro-to-machine-learning/discussion) to chat with other learners.*"
   ]
  }
 ],
 "metadata": {
  "kaggle": {
   "accelerator": "none",
   "dataSources": [
    {
     "databundleVersionId": 111096,
     "sourceId": 10211,
     "sourceType": "competition"
    },
    {
     "datasetId": 11167,
     "sourceId": 15520,
     "sourceType": "datasetVersion"
    },
    {
     "datasetId": 2709,
     "sourceId": 38454,
     "sourceType": "datasetVersion"
    }
   ],
   "isGpuEnabled": false,
   "isInternetEnabled": false,
   "language": "python",
   "sourceType": "notebook"
  },
  "kernelspec": {
   "display_name": "Python 3",
   "language": "python",
   "name": "python3"
  },
  "language_info": {
   "codemirror_mode": {
    "name": "ipython",
    "version": 3
   },
   "file_extension": ".py",
   "mimetype": "text/x-python",
   "name": "python",
   "nbconvert_exporter": "python",
   "pygments_lexer": "ipython3",
   "version": "3.10.13"
  },
  "papermill": {
   "default_parameters": {},
   "duration": 7.741124,
   "end_time": "2024-04-14T04:40:26.333412",
   "environment_variables": {},
   "exception": null,
   "input_path": "__notebook__.ipynb",
   "output_path": "__notebook__.ipynb",
   "parameters": {},
   "start_time": "2024-04-14T04:40:18.592288",
   "version": "2.5.0"
  }
 },
 "nbformat": 4,
 "nbformat_minor": 5
}
